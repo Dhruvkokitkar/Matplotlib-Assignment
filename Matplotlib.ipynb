{
 "cells": [
  {
   "cell_type": "markdown",
   "id": "12a01c29-492c-45c8-8a11-4dc4f962c724",
   "metadata": {},
   "source": [
    "1)Matplotlib is a comprehensive library for creating static, animated, and interactive visualizations in Python. Matplotlib makes easy things easy and hard things possible. Create publication quality plots. Make interactive figures that can zoom, pan, update.\n",
    "The five plots that can be plotted using matplotlib are:\n",
    "    Boxplot\n",
    "    Barplot\n",
    "    Scatter plot\n",
    "    Pie plot\n",
    "    Histogram"
   ]
  },
  {
   "cell_type": "markdown",
   "id": "5511008f-e1eb-418a-a981-52aa22e66f62",
   "metadata": {},
   "source": [
    "2)Matplotlib is a comprehensive library for creating static, animated, and interactive visualizations in Python. Matplotlib makes easy things easy and hard things possible. Create publication quality plots. Make interactive figures that can zoom, pan, update.\n",
    "The five plots that can be plotted using matplotlib are:\n",
    "    Boxplot\n",
    "    Barplot\n",
    "    Scatter plot\n",
    "    Pie plot\n",
    "    Histogram"
   ]
  },
  {
   "cell_type": "markdown",
   "id": "c8f31ba2-1bd1-4fec-a91e-4170a89cc7ad",
   "metadata": {},
   "source": [
    "3)a = np.array([0, 1, 2, 3, 4, 5])\n",
    "b = np.array([0, 100, 200, 300, 400, 500])\n",
    "\n",
    "c = np.array([0, 1, 2, 3, 4, 5])\n",
    "d = np.array([50, 20, 40, 20, 60, 70])\n",
    "\n",
    "e = np.array([0, 1, 2, 3, 4, 5])\n",
    "f = np.array([10, 20, 30, 40, 50, 60])\n",
    "\n",
    "g = np.array([0, 1, 2, 3, 4, 5])\n",
    "h = np.array([200, 350, 250, 550, 450, 150])\n",
    "fig, axs = plt.subplots(2, 2)\n",
    "axs[0, 0].plot(a, b)\n",
    "axs[0, 0].set_title('Axis [0, 0]')\n",
    "axs[0, 1].plot(c, d, 'tab:orange')\n",
    "axs[0, 1].set_title('Axis [0, 1]')\n",
    "axs[1, 0].plot(e, f, 'tab:green')\n",
    "axs[1, 0].set_title('Axis [1, 0]')\n",
    "axs[1, 1].plot(g, h, 'tab:red')\n",
    "axs[1, 1].set_title('Axis [1, 1]')\n",
    "\n",
    "for ax in axs.flat:\n",
    "    ax.set(xlabel='x-label', ylabel='y-label')\n",
    "\n",
    "for ax in axs.flat:\n",
    "    ax.label_outer()"
   ]
  },
  {
   "cell_type": "markdown",
   "id": "c7f837f9-dfd2-433e-9172-375b31193727",
   "metadata": {},
   "source": [
    "4)import numpy as np\n",
    "company = np.array([\"Apple\", \"Microsoft\", \"Google\", \"AMD\"])\n",
    "profit = np.array([3000, 8000, 1000, 10000])\n",
    "plt.bar(company,profit)\n",
    "plt.xlabel(\"Company\")\n",
    "plt.ylabel(\"Profit\")\n",
    "plt.title(\"Barplot\")"
   ]
  },
  {
   "cell_type": "markdown",
   "id": "aaec6742-5053-42b8-be64-95fcf5f5c679",
   "metadata": {},
   "source": [
    "5)import numpy as np\n",
    "company = np.array([\"Apple\", \"Microsoft\", \"Google\", \"AMD\"])\n",
    "profit = np.array([3000, 8000, 1000, 10000])\n",
    "plt.barh(company,profit)\n",
    "plt.ylabel(\"Company\")\n",
    "plt.xlabel(\"Profit\")\n",
    "plt.title(\"Barplot\")"
   ]
  },
  {
   "cell_type": "markdown",
   "id": "d4e6a243-acba-4225-81a3-e4fe380f761a",
   "metadata": {},
   "source": [
    "6)box1 = np.random.normal(100, 10, 200)   #the same graph in one.\n",
    "box2 = np.random.normal(90, 20, 200)\n",
    "plt.boxplot(box1)\n",
    "plt.show()\n",
    "plt.boxplot(box2)\n",
    "plt.show()"
   ]
  },
  {
   "cell_type": "code",
   "execution_count": null,
   "id": "bd5962b6-1a24-42dc-a95b-d71c3b95d034",
   "metadata": {},
   "outputs": [],
   "source": []
  }
 ],
 "metadata": {
  "kernelspec": {
   "display_name": "Python 3 (ipykernel)",
   "language": "python",
   "name": "python3"
  },
  "language_info": {
   "codemirror_mode": {
    "name": "ipython",
    "version": 3
   },
   "file_extension": ".py",
   "mimetype": "text/x-python",
   "name": "python",
   "nbconvert_exporter": "python",
   "pygments_lexer": "ipython3",
   "version": "3.10.8"
  }
 },
 "nbformat": 4,
 "nbformat_minor": 5
}
